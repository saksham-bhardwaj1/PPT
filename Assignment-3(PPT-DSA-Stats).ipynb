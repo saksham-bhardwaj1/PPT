{
 "cells": [
  {
   "cell_type": "markdown",
   "id": "79840e88",
   "metadata": {},
   "source": [
    "#### Q1:-\n",
    "Scenario: A company wants to analyze the sales performance of its products in different regions. They have collected the following data:\n",
    "   Region A: [10, 15, 12, 8, 14]\n",
    "   Region B: [18, 20, 16, 22, 25]\n",
    "   Calculate the mean sales for each region.\n"
   ]
  },
  {
   "cell_type": "markdown",
   "id": "f05dfb4d",
   "metadata": {},
   "source": [
    "##### Ans:-\n",
    "Mean Region A:- (10+15+12+8+14)/5=11.8\n",
    "\n",
    "\n",
    "Mean Region B:- (18+20+16+22+25)/5=20.2"
   ]
  },
  {
   "cell_type": "markdown",
   "id": "a59258ad",
   "metadata": {},
   "source": [
    "#### 2. \n",
    "Scenario: A survey is conducted to measure customer satisfaction on a scale of 1 to 5. The data collected is as follows:\n",
    "   [4, 5, 2, 3, 5, 4, 3, 2, 4, 5]\n",
    "   Calculate the mode of the survey responses.\n"
   ]
  },
  {
   "cell_type": "markdown",
   "id": "e0352d3b",
   "metadata": {},
   "source": [
    "#### Ans:-\n",
    "Mode= 4,5\n"
   ]
  },
  {
   "cell_type": "markdown",
   "id": "03027c86",
   "metadata": {},
   "source": [
    "####  3.\n",
    "Scenario: A company wants to compare the salaries of two departments. The salary data for Department A and Department B are as follows:\n",
    "   Department A: [5000, 6000, 5500, 7000]\n",
    "   Department B: [4500, 5500, 5800, 6000, 5200]\n",
    "   Calculate the median salary for each department.\n"
   ]
  },
  {
   "cell_type": "markdown",
   "id": "2f914ad8",
   "metadata": {},
   "source": [
    "#### Ans:-\n",
    " Department A: [5000, 6000, 5500, 7000]\n",
    " \n",
    " Sorting:-\n",
    " \n",
    " 5000,5500,6000,7000\n",
    " \n",
    " Median of Departement A = (5500+6000)/2=5750\n",
    " \n",
    " Department B: [4500, 5500, 5800, 6000, 5200]\n",
    " \n",
    " Sorting:-\n",
    " \n",
    " 4500,5200,5500,5800,6000\n",
    " \n",
    " Median of Department B :- 5500"
   ]
  },
  {
   "cell_type": "markdown",
   "id": "48513354",
   "metadata": {},
   "source": [
    "#### 4. \n",
    "Scenario: A data analyst wants to determine the variability in the daily stock prices of a company. The data collected is as follows:\n",
    "   [25.5, 24.8, 26.1, 25.3, 24.9]\n",
    "   Calculate the range of the stock prices.\n"
   ]
  },
  {
   "cell_type": "markdown",
   "id": "854f52c2",
   "metadata": {},
   "source": [
    "#### Ans:-\n",
    "Range :- largestvalue - smallestvalue\n",
    "\n",
    "26.1-24.8= 1.3"
   ]
  },
  {
   "cell_type": "markdown",
   "id": "c58c947a",
   "metadata": {},
   "source": [
    "#### 5.\n",
    "Scenario: A study is conducted to compare the performance of two different teaching methods. The test scores of the students in each group are as follows:\n",
    "\n",
    "   Group A: [85, 90, 92, 88, 91]\n",
    "   \n",
    "   Group B: [82, 88, 90, 86, 87]\n",
    "   \n",
    "   Perform a t-test to determine if there is a significant difference in the mean scores between the two groups.\n"
   ]
  },
  {
   "cell_type": "code",
   "execution_count": 1,
   "id": "32914818",
   "metadata": {},
   "outputs": [
    {
     "name": "stdout",
     "output_type": "stream",
     "text": [
      "T-statistic: 1.4312528946642733\n",
      "P-value: 0.19023970239078333\n"
     ]
    }
   ],
   "source": [
    "from scipy import stats\n",
    "\n",
    "# Test scores for Group A\n",
    "group_a_scores = [85, 90, 92, 88, 91]\n",
    "# Test scores for Group B\n",
    "group_b_scores = [82, 88, 90, 86, 87]\n",
    "# Perform t-test\n",
    "t_statistic, p_value = stats.ttest_ind(group_a_scores, group_b_scores)\n",
    "# Print the results\n",
    "print(\"T-statistic:\", t_statistic)\n",
    "print(\"P-value:\", p_value)\n"
   ]
  },
  {
   "cell_type": "markdown",
   "id": "83c312ca",
   "metadata": {},
   "source": [
    "#### 6. \n",
    "Scenario: A company wants to analyze the relationship between advertising expenditure and sales. The data collected is as follows:\n",
    "   Advertising Expenditure (in thousands): [10, 15, 12, 8, 14]\n",
    "   Sales (in thousands): [25, 30, 28, 20, 26]\n",
    "   Calculate the correlation coefficient between advertising expenditure and sales.\n"
   ]
  },
  {
   "cell_type": "code",
   "execution_count": 4,
   "id": "477cfd83",
   "metadata": {},
   "outputs": [
    {
     "name": "stdout",
     "output_type": "stream",
     "text": [
      "Correlation coefficient: 0.8757511375750133\n"
     ]
    }
   ],
   "source": [
    "import numpy as np\n",
    "# Advertising expenditure (in thousands)\n",
    "advertising_expenditure = [10, 15, 12, 8, 14]\n",
    "# Sales (in thousands)\n",
    "sales = [25, 30, 28, 20, 26]\n",
    "# Calculate the correlation coefficient\n",
    "correlation_coefficient = np.corrcoef(advertising_expenditure, sales)[0, 1]\n",
    "# Print the correlation coefficient\n",
    "print(\"Correlation coefficient:\", correlation_coefficient)\n"
   ]
  },
  {
   "cell_type": "markdown",
   "id": "727b8ccb",
   "metadata": {},
   "source": [
    "#### 7. \n",
    "Scenario: A survey is conducted to measure the heights of a group of people. The data collected is as follows:\n",
    "   [160, 170, 165, 155, 175, 180, 170]\n",
    "   Calculate the standard deviation of the heights.\n"
   ]
  },
  {
   "cell_type": "code",
   "execution_count": 8,
   "id": "8422c05c",
   "metadata": {},
   "outputs": [
    {
     "name": "stdout",
     "output_type": "stream",
     "text": [
      "The standard deviation of the height is :7.953949089757174\n"
     ]
    }
   ],
   "source": [
    "#### Ans:-\n",
    "height = [160, 170, 165, 155, 175, 180, 170]\n",
    "print(f\"The standard deviation of the height is :{np.std(height)}\")"
   ]
  },
  {
   "cell_type": "markdown",
   "id": "08a10e0f",
   "metadata": {},
   "source": [
    "#### 8. \n",
    "Scenario: A company wants to analyze the relationship between employee tenure and job satisfaction. The data collected is as follows:\n",
    "   Employee Tenure (in years): [2, 3, 5, 4, 6, 2, 4]\n",
    "   Job Satisfaction (on a scale of 1 to 10): [7, 8, 6, 9, 5, 7, 6]\n",
    "   Perform a linear regression analysis to predict job satisfaction based on employee tenure.\n"
   ]
  },
  {
   "cell_type": "code",
   "execution_count": 9,
   "id": "e6e2c5dc",
   "metadata": {},
   "outputs": [
    {
     "name": "stdout",
     "output_type": "stream",
     "text": [
      "The linear equation for prediction of Job Satisfaction from Employee Tenure by ordinary least squares is:\n",
      "Job Satisfaction = -0.4680851063829787* Employee Tenure + 8.595744680851062\n",
      "The p-values is: 0.23095550952297988\n"
     ]
    }
   ],
   "source": [
    "Tenure = [2, 3, 5, 4, 6, 2, 4]\n",
    "Satisfaction = [7, 8, 6, 9, 5, 7, 6]\n",
    "result = stats.linregress(Tenure,Satisfaction)\n",
    "print(\"The linear equation for prediction of Job Satisfaction from Employee Tenure by ordinary least squares is:\")\n",
    "print(f\"Job Satisfaction = {result.slope}* Employee Tenure + {result.intercept}\")\n",
    "print(f\"The p-values is: {result.pvalue}\")\n"
   ]
  },
  {
   "cell_type": "markdown",
   "id": "4ed1f28a",
   "metadata": {},
   "source": [
    "####  9.\n",
    "Scenario: A study is conducted to compare the effectiveness of two different medications. The recovery times of the patients in each group are as follows:\n",
    "   Medication A: [10, 12, 14, 11, 13]\n",
    "   Medication B: [15, 17, 16, 14, 18]\n",
    "   Perform an analysis of variance (ANOVA) to determine if there is a significant difference in the mean recovery times between the two medications.\n"
   ]
  },
  {
   "cell_type": "code",
   "execution_count": 11,
   "id": "b54ac165",
   "metadata": {},
   "outputs": [
    {
     "name": "stdout",
     "output_type": "stream",
     "text": [
      "F-statistic: 16.0\n",
      "P-value: 0.003949772803445326\n"
     ]
    }
   ],
   "source": [
    "from scipy import stats\n",
    "\n",
    "# Recovery times for Medication A\n",
    "medication_a_times = [10, 12, 14, 11, 13]\n",
    "\n",
    "# Recovery times for Medication B\n",
    "medication_b_times = [15, 17, 16, 14, 18]\n",
    "\n",
    "# Perform ANOVA\n",
    "f_statistic, p_value = stats.f_oneway(medication_a_times, medication_b_times)\n",
    "\n",
    "print(\"F-statistic:\", f_statistic)\n",
    "print(\"P-value:\", p_value)\n"
   ]
  },
  {
   "cell_type": "markdown",
   "id": "bb5d829d",
   "metadata": {},
   "source": [
    "Null hypothesis rejected . There is a significant difference in the mean recovery times between the two medications."
   ]
  },
  {
   "cell_type": "markdown",
   "id": "f83ded6c",
   "metadata": {},
   "source": [
    "#### 10.\n",
    "Scenario: A company wants to analyze customer feedback ratings on a scale of 1 to 10. The data collected is as follows: [8, 9, 7, 6, 8, 10, 9, 8, 7, 8] Calculate the 75th percentile of the feedback ratings."
   ]
  },
  {
   "cell_type": "code",
   "execution_count": 12,
   "id": "0c2aa8be",
   "metadata": {},
   "outputs": [
    {
     "name": "stdout",
     "output_type": "stream",
     "text": [
      "The 75th percentile is: 8.75\n"
     ]
    }
   ],
   "source": [
    "rating = [8, 9, 7, 6, 8, 10, 9, 8, 7, 8]\n",
    "print(f\"The 75th percentile is: {np.percentile(rating,75)}\")"
   ]
  },
  {
   "cell_type": "markdown",
   "id": "c9218a80",
   "metadata": {},
   "source": [
    "#### 11.\n",
    "Scenario: A quality control department wants to test the weight consistency of a product. The weights of a sample of products are as follows: [10.2, 9.8, 10.0, 10.5, 10.3, 10.1] Perform a hypothesis test to determine if the mean weight differs significantly from 10 grams."
   ]
  },
  {
   "cell_type": "code",
   "execution_count": 15,
   "id": "f59bd3c3",
   "metadata": {},
   "outputs": [
    {
     "name": "stdout",
     "output_type": "stream",
     "text": [
      "P value is 0.19077595151110102: Failed to reject Null hypothesis. Mean weight does not differ significantly from 10 grams.\n"
     ]
    }
   ],
   "source": [
    "weight = [10.2, 9.8, 10.0, 10.5, 10.3, 10.1]\n",
    "result = stats.ttest_1samp(weight , 10)\n",
    "alpha = 0.05\n",
    "if result.pvalue < alpha: \n",
    "    print(f\"P value is {result.pvalue}: Null hypothesis rejected . Mean weight differs significantly from 10 grams.\")\n",
    "else:\n",
    "    print(f\"P value is {result.pvalue}: Failed to reject Null hypothesis. Mean weight does not differ significantly from 10 grams.\")"
   ]
  },
  {
   "cell_type": "markdown",
   "id": "634f9ffa",
   "metadata": {},
   "source": [
    "#### 12.\n",
    "Scenario: A company wants to analyze the click-through rates of two different website designs. The number of clicks for each design is as follows: Design A: [100, 120, 110, 90, 95] Design B: [80, 85, 90, 95, 100] Perform a chi-square test to determine if there is a significant difference in the click-through rates between the two designs."
   ]
  },
  {
   "cell_type": "code",
   "execution_count": 16,
   "id": "7b8c4380",
   "metadata": {},
   "outputs": [
    {
     "name": "stdout",
     "output_type": "stream",
     "text": [
      "P value is 1.0: Failed to reject Null hypothesis. There is no significant difference in the click-through rates between the two designs.\n"
     ]
    }
   ],
   "source": [
    "A = [100, 120, 110, 90, 95]\n",
    "B = [80, 85, 90, 95, 100]\n",
    "result = stats.chi2_contingency(A, B)\n",
    "alpha = 0.05\n",
    "if result.pvalue < alpha: \n",
    "    print(f\"P value is {result.pvalue}: Null hypothesis rejected . There is a significant difference in the click-through rates between the two designs.\")\n",
    "else:\n",
    "    print(f\"P value is {result.pvalue}: Failed to reject Null hypothesis. There is no significant difference in the click-through rates between the two designs.\")"
   ]
  },
  {
   "cell_type": "markdown",
   "id": "1bfd8a38",
   "metadata": {},
   "source": [
    "#### 13.\n",
    "Scenario: A survey is conducted to measure customer satisfaction with a product on a scale of 1 to 10. The data collected is as follows: [7, 9, 6, 8, 10, 7, 8, 9, 7, 8] Calculate the 95% confidence interval for the population mean satisfaction score."
   ]
  },
  {
   "cell_type": "code",
   "execution_count": 17,
   "id": "a24a4cfd",
   "metadata": {},
   "outputs": [
    {
     "name": "stderr",
     "output_type": "stream",
     "text": [
      "C:\\Temp\\ipykernel_6248\\1164652942.py:3: DeprecationWarning: Use of keyword argument 'alpha' for method 'interval' is deprecated and wil be removed in SciPy 1.11.0. Use first positional argument or keyword argument 'confidence' instead.\n",
      "  stats.t.interval(alpha = .95 , df = len(survey)-1,\n"
     ]
    },
    {
     "data": {
      "text/plain": [
       "(7.043561120599888, 8.756438879400113)"
      ]
     },
     "execution_count": 17,
     "metadata": {},
     "output_type": "execute_result"
    }
   ],
   "source": [
    "# Since the data is small (<30) we will be using the t-distribution to calculate the 95% confidence interval\n",
    "survey = [7, 9, 6, 8, 10, 7, 8, 9, 7, 8]\n",
    "stats.t.interval(alpha = .95 , df = len(survey)-1,\n",
    "                 loc = np.mean(survey),\n",
    "                 scale = stats.sem(survey))"
   ]
  },
  {
   "cell_type": "markdown",
   "id": "aff95396",
   "metadata": {},
   "source": [
    "#### 14.\n",
    "Scenario: A company wants to analyze the effect of temperature on product performance. The data collected is as follows: Temperature (in degrees Celsius): [20, 22, 23, 19, 21] Performance (on a scale of 1 to 10): [8, 7, 9, 6, 8] Perform a simple linear regression to predict performance based on temperature."
   ]
  },
  {
   "cell_type": "code",
   "execution_count": 18,
   "id": "1e098cc3",
   "metadata": {},
   "outputs": [
    {
     "name": "stdout",
     "output_type": "stream",
     "text": [
      "The linear equation for prediction of Performance from Temperature by ordinary least squares is:\n",
      "Performance = 0.5* Temperature  -2.9000000000000004\n",
      "The p-values is: 0.19417134561205843\n"
     ]
    }
   ],
   "source": [
    "temp = [20, 22, 23, 19, 21]\n",
    "perf = [8, 7, 9, 6, 8]\n",
    "result = stats.linregress(temp,perf)\n",
    "print(\"The linear equation for prediction of Performance from Temperature by ordinary least squares is:\")\n",
    "print(f\"Performance = {result.slope}* Temperature  {result.intercept}\")\n",
    "print(f\"The p-values is: {result.pvalue}\")"
   ]
  },
  {
   "cell_type": "markdown",
   "id": "ecd1c790",
   "metadata": {},
   "source": [
    "#### 15. \n",
    "Scenario: A study is conducted to compare the preferences of two groups of participants. The preferences are measured on a Likert scale from 1 to 5. The data collected is as follows: Group A: [4, 3, 5, 2, 4] Group B: [3, 2, 4, 3, 3] Perform a Mann-Whitney U test to determine if there is a significant difference in the median preferences between the two groups."
   ]
  },
  {
   "cell_type": "code",
   "execution_count": 19,
   "id": "031e0031",
   "metadata": {},
   "outputs": [
    {
     "name": "stdout",
     "output_type": "stream",
     "text": [
      "P value is 0.380836480306712: Failed to reject Null hypothesis. There is no significant difference in the median preferences between the two groups.\n"
     ]
    }
   ],
   "source": [
    "A = [4, 3, 5, 2, 4]\n",
    "B = [3, 2, 4, 3, 3]\n",
    "result = stats.mannwhitneyu(A, B)\n",
    "if result.pvalue < alpha: \n",
    "    print(f\"P value is {result.pvalue}: Null hypothesis rejected . There is a significant difference in the median preferences between the two groups.\")\n",
    "else:\n",
    "    print(f\"P value is {result.pvalue}: Failed to reject Null hypothesis. There is no significant difference in the median preferences between the two groups.\")"
   ]
  },
  {
   "cell_type": "markdown",
   "id": "534b1f36",
   "metadata": {},
   "source": [
    "#### 16.\n",
    "Scenario: A company wants to analyze the distribution of customer ages. The data collected is as follows: [25, 30, 35, 40, 45, 50, 55, 60, 65, 70] Calculate the interquartile range (IQR) of the ages."
   ]
  },
  {
   "cell_type": "code",
   "execution_count": 20,
   "id": "ffcc0455",
   "metadata": {},
   "outputs": [
    {
     "name": "stdout",
     "output_type": "stream",
     "text": [
      "The IQR is: 20.0\n"
     ]
    }
   ],
   "source": [
    "age = [25, 30, 35, 40, 45, 50, 55, 60, 65, 70]\n",
    "print(f\"The IQR is: {stats.iqr(age , interpolation='midpoint')}\")"
   ]
  },
  {
   "cell_type": "markdown",
   "id": "dad3816a",
   "metadata": {},
   "source": [
    "#### 17.\n",
    "Scenario: A study is conducted to compare the performance of three different machine learning algorithms. The accuracy scores for each algorithm are as follows: Algorithm A: [0.85, 0.80, 0.82, 0.87, 0.83] Algorithm B: [0.78, 0.82, 0.84, 0.80, 0.79] Algorithm C: [0.90, 0.88, 0.89, 0.86, 0.87] Perform a Kruskal-Wallis test to determine if there is a significant difference in the median accuracy scores between the algorithms."
   ]
  },
  {
   "cell_type": "code",
   "execution_count": 21,
   "id": "e3eaa315",
   "metadata": {},
   "outputs": [
    {
     "name": "stdout",
     "output_type": "stream",
     "text": [
      "P value is 0.007840333026249539: Null hypothesis rejected . There is a significant difference in the median accuracy scores between the algorithms.\n"
     ]
    }
   ],
   "source": [
    "A = [0.85, 0.80, 0.82, 0.87, 0.83]\n",
    "B = [0.78, 0.82, 0.84, 0.80, 0.79]\n",
    "C = [0.90, 0.88, 0.89, 0.86, 0.87]\n",
    "_ , p_val = stats.kruskal(A,B,C)\n",
    "alpha = 0.05\n",
    "if p_val < alpha: \n",
    "    print(f\"P value is {p_val}: Null hypothesis rejected . There is a significant difference in the median accuracy scores between the algorithms.\")\n",
    "else:\n",
    "    print(f\"P value is {p_val}: Failed to reject Null hypothesis. There is no significant difference in the median accuracy scores between the algorithms.\")"
   ]
  },
  {
   "cell_type": "markdown",
   "id": "397ac044",
   "metadata": {},
   "source": [
    "#### 18. \n",
    "Scenario: A company wants to analyze the effect of price on sales. The data collected is as follows: Price (in dollars): [10, 15, 12, 8, 14] Sales: [100, 80, 90, 110, 95] Perform a simple linear regression to predict sales based on price."
   ]
  },
  {
   "cell_type": "code",
   "execution_count": 22,
   "id": "44eb9363",
   "metadata": {},
   "outputs": [
    {
     "name": "stdout",
     "output_type": "stream",
     "text": [
      "The linear equation for prediction of Sales from Price by ordinary least squares is:\n",
      "Sales = -3.50609756097561* Price +  136.3719512195122\n",
      "The p-values is: 0.038501782347537684\n"
     ]
    }
   ],
   "source": [
    "Price = [10, 15, 12, 8, 14]\n",
    "Sales = [100, 80, 90, 110, 95]\n",
    "result = stats.linregress(Price,Sales)\n",
    "print(\"The linear equation for prediction of Sales from Price by ordinary least squares is:\")\n",
    "print(f\"Sales = {result.slope}* Price +  {result.intercept}\")\n",
    "print(f\"The p-values is: {result.pvalue}\")"
   ]
  },
  {
   "cell_type": "markdown",
   "id": "ef3bee50",
   "metadata": {},
   "source": [
    "#### 19.\n",
    "Scenario: A survey is conducted to measure the satisfaction levels of customers with a new product. The data collected is as follows: [7, 8, 9, 6, 8, 7, 9, 7, 8, 7] Calculate the standard error of the mean satisfaction score."
   ]
  },
  {
   "cell_type": "code",
   "execution_count": 23,
   "id": "4047a6ab",
   "metadata": {},
   "outputs": [
    {
     "name": "stdout",
     "output_type": "stream",
     "text": [
      "The standard error of mean is : 0.30550504633038933\n"
     ]
    }
   ],
   "source": [
    "survey = [7, 8, 9, 6, 8, 7, 9, 7, 8, 7]\n",
    "print(f\"The standard error of mean is : {stats.sem(survey)}\")"
   ]
  },
  {
   "cell_type": "markdown",
   "id": "d7cc6000",
   "metadata": {},
   "source": [
    "#### 20.\n",
    "Scenario: A company wants to analyze the relationship between advertising expenditure and sales. The data collected is as follows: Advertising Expenditure (in thousands): [10, 15, 12, 8, 14] Sales (in thousands): [25, 30, 28, 20, 26] Perform a multiple regression analysis to predict sales based on advertising expenditure."
   ]
  },
  {
   "cell_type": "code",
   "execution_count": 24,
   "id": "ff229231",
   "metadata": {},
   "outputs": [
    {
     "name": "stdout",
     "output_type": "stream",
     "text": [
      "The linear equation for prediction of Sales from Advertising Expenditure by ordinary least squares is:\n",
      "Sales = 1.1524390243902438 * Advertising Expenditure +   12.201219512195124\n",
      "The p-values is: 0.051583194188217135\n"
     ]
    }
   ],
   "source": [
    "ad_exp =  [10, 15, 12, 8, 14]\n",
    "sales =  [25, 30, 28, 20, 26]\n",
    "result = stats.linregress(ad_exp,sales)\n",
    "print(\"The linear equation for prediction of Sales from Advertising Expenditure by ordinary least squares is:\")\n",
    "print(f\"Sales = {result.slope} * Advertising Expenditure +   {result.intercept}\")\n",
    "print(f\"The p-values is: {result.pvalue}\")"
   ]
  },
  {
   "cell_type": "code",
   "execution_count": null,
   "id": "bbf2d323",
   "metadata": {},
   "outputs": [],
   "source": []
  }
 ],
 "metadata": {
  "kernelspec": {
   "display_name": "Python 3 (ipykernel)",
   "language": "python",
   "name": "python3"
  },
  "language_info": {
   "codemirror_mode": {
    "name": "ipython",
    "version": 3
   },
   "file_extension": ".py",
   "mimetype": "text/x-python",
   "name": "python",
   "nbconvert_exporter": "python",
   "pygments_lexer": "ipython3",
   "version": "3.10.9"
  }
 },
 "nbformat": 4,
 "nbformat_minor": 5
}
