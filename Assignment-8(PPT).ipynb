{
 "cells": [
  {
   "cell_type": "code",
   "execution_count": 1,
   "id": "831f2a69",
   "metadata": {},
   "outputs": [
    {
     "name": "stdout",
     "output_type": "stream",
     "text": [
      "231\n"
     ]
    }
   ],
   "source": [
    "## Ans-1\n",
    "def minimumDeleteSum(s1, s2):\n",
    "    m, n = len(s1), len(s2)\n",
    "    dp = [[0] * (n + 1) for _ in range(m + 1)]\n",
    "    for i in range(m - 1, -1, -1):\n",
    "        dp[i][n] = dp[i + 1][n] + ord(s1[i])\n",
    "    for j in range(n - 1, -1, -1):\n",
    "        dp[m][j] = dp[m][j + 1] + ord(s2[j])\n",
    "    for i in range(m - 1, -1, -1):\n",
    "        for j in range(n - 1, -1, -1):\n",
    "            if s1[i] == s2[j]:\n",
    "                dp[i][j] = dp[i + 1][j + 1]\n",
    "            else:\n",
    "                dp[i][j] = min(dp[i + 1][j] + ord(s1[i]), dp[i][j + 1] + ord(s2[j]))\n",
    "    return dp[0][0]\n",
    "\n",
    "s1 = \"sea\"\n",
    "s2 = \"eat\"\n",
    "result = minimumDeleteSum(s1, s2)\n",
    "print(result)\n"
   ]
  },
  {
   "cell_type": "code",
   "execution_count": 2,
   "id": "a7f15ae6",
   "metadata": {},
   "outputs": [
    {
     "name": "stdout",
     "output_type": "stream",
     "text": [
      "True\n"
     ]
    }
   ],
   "source": [
    "## Ans-2\n",
    "def checkValidString(s):\n",
    "    stack = []\n",
    "    asterisks = []\n",
    "    for i, char in enumerate(s):\n",
    "        if char == '(':\n",
    "            stack.append(i)\n",
    "        elif char == '*':\n",
    "            asterisks.append(i)\n",
    "        else:\n",
    "            if stack:\n",
    "                stack.pop()\n",
    "            elif asterisks:\n",
    "                asterisks.pop()\n",
    "            else:\n",
    "                return False\n",
    "    while stack and asterisks:\n",
    "        if stack[-1] > asterisks[-1]:\n",
    "            return False\n",
    "        stack.pop()\n",
    "        asterisks.pop()\n",
    "    return not stack\n",
    "s = \"()\"\n",
    "result = checkValidString(s)\n",
    "print(result)\n"
   ]
  },
  {
   "cell_type": "code",
   "execution_count": 5,
   "id": "96287e19",
   "metadata": {},
   "outputs": [
    {
     "name": "stdout",
     "output_type": "stream",
     "text": [
      "2\n"
     ]
    }
   ],
   "source": [
    "## Ans3\n",
    "def minSteps(word1, word2):\n",
    "    m, n = len(word1), len(word2)\n",
    "    dp = [[0] * (n + 1) for _ in range(m + 1)]\n",
    "    for i in range(1, m + 1):\n",
    "        dp[i][0] = i\n",
    "    for j in range(1, n + 1):\n",
    "        dp[0][j] = j\n",
    "    for i in range(1, m + 1):\n",
    "        for j in range(1, n + 1):\n",
    "            if word1[i - 1] == word2[j - 1]:\n",
    "                dp[i][j] = dp[i - 1][j - 1]\n",
    "            else:\n",
    "                dp[i][j] = min(dp[i - 1][j], dp[i][j - 1]) + 1\n",
    "    return dp[m][n]\n",
    "word1 = \"sea\"\n",
    "word2 = \"eat\"\n",
    "result = minSteps(word1, word2)\n",
    "print(result)\n",
    "\n"
   ]
  },
  {
   "cell_type": "code",
   "execution_count": null,
   "id": "1c0f853f",
   "metadata": {},
   "outputs": [],
   "source": [
    "## Ans-4\n",
    "class TreeNode:\n",
    "    def __init__(self, val=0, left=None, right=None):\n",
    "        self.val = val\n",
    "        self.left = left\n",
    "        self.right = right\n",
    "\n",
    "def constructBinaryTreeFromString(s):\n",
    "    if not s:\n",
    "        return None\n",
    "    # Find the root value\n",
    "    i = 0\n",
    "    while i < len(s) and (s[i].isdigit() or s[i] == '-'):\n",
    "        i += 1\n",
    "    root_val = int(s[:i])\n",
    "    # Base case: no children\n",
    "    if i == len(s):\n",
    "        return TreeNode(root_val)\n",
    "    \n",
    "    # Find the indices of left and right subtrees\n",
    "    count = 0\n",
    "    start = i + 1\n",
    "    j = start\n",
    "    while j < len(s):\n",
    "        if s[j] == '(':\n",
    "            count += 1\n",
    "        elif s[j] == ')':\n",
    "            count -= 1\n",
    "        if count == 0:\n",
    "            break\n",
    "        j += 1\n",
    "    \n",
    "    # Construct the root node\n",
    "    root = TreeNode(root_val)\n",
    "    root.left = constructBinaryTreeFromString(s[start:j])\n",
    "    root.right = constructBinaryTreeFromString(s[j + 2: -1])\n",
    "    \n",
    "    return root\n",
    "def inorderTraversal(root):\n",
    "    if not root:\n",
    "        return []\n",
    "    return inorderTraversal(root.left) + [root.val] + inorderTraversal(root.right)\n",
    "\n",
    "s = \"4(2(3)(1))(6(5))\"\n",
    "root = constructBinaryTreeFromString(s)\n",
    "result = inorderTraversal(root)\n",
    "print(result)\n"
   ]
  },
  {
   "cell_type": "code",
   "execution_count": 10,
   "id": "6e70e1d9",
   "metadata": {},
   "outputs": [
    {
     "name": "stdout",
     "output_type": "stream",
     "text": [
      "6\n",
      "['a', '2', 'b', '2', 'c', '3']\n"
     ]
    }
   ],
   "source": [
    "## Ans-5\n",
    "def compress(chars):\n",
    "    write_ptr = 0\n",
    "    read_ptr = 0\n",
    "    count = 0\n",
    "    while read_ptr < len(chars):\n",
    "        count += 1\n",
    "        if read_ptr + 1 == len(chars) or chars[read_ptr] != chars[read_ptr + 1]:\n",
    "            # Write the character\n",
    "            chars[write_ptr] = chars[read_ptr]\n",
    "            write_ptr += 1\n",
    "  \n",
    "            if count > 1:\n",
    "                count_str = str(count)\n",
    "                for char in count_str:\n",
    "                    chars[write_ptr] = char\n",
    "                    write_ptr += 1\n",
    "            count = 0\n",
    "        read_ptr += 1\n",
    "    return write_ptr\n",
    "\n",
    "chars = [\"a\", \"a\", \"b\", \"b\", \"c\", \"c\", \"c\"]\n",
    "new_length = compress(chars)\n",
    "print(new_length)\n",
    "print(chars[:new_length])\n"
   ]
  },
  {
   "cell_type": "code",
   "execution_count": 11,
   "id": "c6768622",
   "metadata": {},
   "outputs": [
    {
     "name": "stdout",
     "output_type": "stream",
     "text": [
      "[0, 6]\n"
     ]
    }
   ],
   "source": [
    "## Ans-6 \n",
    "from collections import Counter\n",
    "def findAnagrams(s, p):\n",
    "    result = []\n",
    "    p_counter = Counter(p)\n",
    "    s_counter = Counter(s[:len(p)-1])\n",
    "    for i in range(len(p)-1, len(s)):\n",
    "        # Add the new character to the window\n",
    "        s_counter[s[i]] += 1\n",
    "        # Check if the window contains an anagram of p\n",
    "        if s_counter == p_counter:\n",
    "            result.append(i - len(p) + 1)\n",
    "        # Remove the leftmost character from the window\n",
    "        s_counter[s[i-len(p)+1]] -= 1\n",
    "        if s_counter[s[i-len(p)+1]] == 0:\n",
    "            del s_counter[s[i-len(p)+1]]\n",
    "    \n",
    "    return result\n",
    "\n",
    "s = \"cbaebabacd\"\n",
    "p = \"abc\"\n",
    "indices = findAnagrams(s, p)\n",
    "print(indices)\n"
   ]
  },
  {
   "cell_type": "code",
   "execution_count": 12,
   "id": "4934e8d2",
   "metadata": {},
   "outputs": [
    {
     "name": "stdout",
     "output_type": "stream",
     "text": [
      "aaabcbc\n"
     ]
    }
   ],
   "source": [
    "## Ans7\n",
    "def decodeString(s):\n",
    "    stack = []\n",
    "    current_str = \"\"\n",
    "    current_num = 0\n",
    "    \n",
    "    for char in s:\n",
    "        if char.isdigit():\n",
    "            current_num = current_num * 10 + int(char)\n",
    "        elif char.isalpha():\n",
    "            current_str += char\n",
    "        elif char == \"[\":\n",
    "            stack.append((current_str, current_num))\n",
    "            current_str = \"\"\n",
    "            current_num = 0\n",
    "        elif char == \"]\":\n",
    "            prev_str, prev_num = stack.pop()\n",
    "            current_str = prev_str + prev_num * current_str\n",
    "    \n",
    "    return current_str\n",
    "\n",
    "\n",
    "s = \"3[a]2[bc]\"\n",
    "decoded_str = decodeString(s)\n",
    "print(decoded_str)\n"
   ]
  },
  {
   "cell_type": "code",
   "execution_count": 13,
   "id": "d89e165f",
   "metadata": {},
   "outputs": [
    {
     "name": "stdout",
     "output_type": "stream",
     "text": [
      "True\n"
     ]
    }
   ],
   "source": [
    "## Ans 8\n",
    "def buddyStrings(s, goal):\n",
    "    # Check if lengths of s and goal are equal\n",
    "    if len(s) != len(goal):\n",
    "        return False\n",
    "    # Check if s and goal are equal and have at least one repeated character\n",
    "    if s == goal and len(set(s)) < len(s):\n",
    "        return True\n",
    "    # Find the positions where the characters are different\n",
    "    diff_positions = []\n",
    "    for i in range(len(s)):\n",
    "        if s[i] != goal[i]:\n",
    "            diff_positions.append(i)\n",
    "    # Check if there are exactly two positions where characters are different\n",
    "    if len(diff_positions) != 2:\n",
    "        return False\n",
    "    # Check if swapping the characters results in s being equal to goal\n",
    "    i, j = diff_positions\n",
    "    if s[i] == goal[j] and s[j] == goal[i]:\n",
    "        return True\n",
    "    return False\n",
    "s = \"ab\"\n",
    "goal = \"ba\"\n",
    "result = buddyStrings(s, goal)\n",
    "print(result)\n"
   ]
  },
  {
   "cell_type": "code",
   "execution_count": null,
   "id": "06038bfc",
   "metadata": {},
   "outputs": [],
   "source": []
  }
 ],
 "metadata": {
  "kernelspec": {
   "display_name": "Python 3 (ipykernel)",
   "language": "python",
   "name": "python3"
  },
  "language_info": {
   "codemirror_mode": {
    "name": "ipython",
    "version": 3
   },
   "file_extension": ".py",
   "mimetype": "text/x-python",
   "name": "python",
   "nbconvert_exporter": "python",
   "pygments_lexer": "ipython3",
   "version": "3.10.9"
  }
 },
 "nbformat": 4,
 "nbformat_minor": 5
}
