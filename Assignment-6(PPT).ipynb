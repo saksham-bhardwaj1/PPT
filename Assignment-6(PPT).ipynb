{
 "cells": [
  {
   "cell_type": "code",
   "execution_count": 1,
   "id": "bfe595ee",
   "metadata": {},
   "outputs": [
    {
     "name": "stdout",
     "output_type": "stream",
     "text": [
      "[0, 4, 1, 3, 2]\n"
     ]
    }
   ],
   "source": [
    "## Ans-1\n",
    "\n",
    "def reconstruct_permutation(s):\n",
    "    perm = []\n",
    "    start = 0\n",
    "    end = len(s)\n",
    "    for c in s:\n",
    "        if c == 'I':\n",
    "            perm.append(start)\n",
    "            start += 1\n",
    "        else:\n",
    "            perm.append(end)\n",
    "            end -= 1\n",
    "    perm.append(start) \n",
    "    return perm\n",
    "\n",
    "s = \"IDID\"\n",
    "reconstructed_perm = reconstruct_permutation(s)\n",
    "print(reconstructed_perm)"
   ]
  },
  {
   "cell_type": "code",
   "execution_count": 2,
   "id": "ed71fd11",
   "metadata": {},
   "outputs": [
    {
     "name": "stdout",
     "output_type": "stream",
     "text": [
      "True\n"
     ]
    }
   ],
   "source": [
    "## Ans 2\n",
    "\n",
    "## Function definition\n",
    "def searchSortedMatrix(matrix, target):\n",
    "    ## number of rows\n",
    "    m=len(matrix)\n",
    "    if m==0:\n",
    "        return False\n",
    "    ## number of column\n",
    "    n= len(matrix[0])\n",
    "    \n",
    "    ## Binary Search\n",
    "    left, right = 0 , m*n-1\n",
    "    while left <= right:\n",
    "        mid=left + (right-left)//2\n",
    "        ## Extracting the element from the 2D array\n",
    "        mid_element= matrix[mid//n][mid%n]\n",
    "        if target == mid_element:\n",
    "            return True\n",
    "        elif target < mid_element:\n",
    "            right=mid-1\n",
    "        else:\n",
    "            left = mid+1\n",
    "    return False\n",
    "\n",
    "## Driver code\n",
    "matrix= [[1,3,5,7],[10,11,16,20],[23,30,34,60]]\n",
    "target=3\n",
    "## Function calling\n",
    "result=searchSortedMatrix(matrix, target)\n",
    "print(result)"
   ]
  },
  {
   "cell_type": "code",
   "execution_count": 3,
   "id": "e2c5d22d",
   "metadata": {},
   "outputs": [
    {
     "name": "stdout",
     "output_type": "stream",
     "text": [
      "False\n"
     ]
    }
   ],
   "source": [
    "## Ans-3\n",
    "def validMountainArray(arr):\n",
    "    n = len(arr)\n",
    "    if n < 3:\n",
    "        return False\n",
    "    i = 0\n",
    "    while i < n - 1 and arr[i] < arr[i+1]:\n",
    "        i += 1\n",
    "    \n",
    "    if i == 0 or i == n - 1:\n",
    "        return False\n",
    "    \n",
    "    while i < n - 1 and arr[i] > arr[i+1]:\n",
    "        i += 1\n",
    "    \n",
    "    return i == n - 1\n",
    "\n",
    "\n",
    "arr = [2, 1]\n",
    "print(validMountainArray(arr))  \n"
   ]
  },
  {
   "cell_type": "code",
   "execution_count": 4,
   "id": "52dac8f5",
   "metadata": {},
   "outputs": [
    {
     "name": "stdout",
     "output_type": "stream",
     "text": [
      "2\n"
     ]
    }
   ],
   "source": [
    "## Ans-4\n",
    "def findMaxLength(nums):\n",
    "    max_len = 0\n",
    "    count = {0: -1}\n",
    "    prefix_sum = 0\n",
    "\n",
    "    for index, num in enumerate(nums):\n",
    "        if num == 0:\n",
    "            prefix_sum -= 1\n",
    "        else:\n",
    "            prefix_sum += 1\n",
    "\n",
    "        if prefix_sum in count:\n",
    "            current_len = index - count[prefix_sum]\n",
    "            max_len = max(max_len, current_len)\n",
    "        else:\n",
    "            count[prefix_sum] = index\n",
    "\n",
    "    return max_len\n",
    "\n",
    "nums = [0, 1]\n",
    "print(findMaxLength(nums))  \n"
   ]
  },
  {
   "cell_type": "code",
   "execution_count": 7,
   "id": "f5bf3d4c",
   "metadata": {},
   "outputs": [
    {
     "name": "stdout",
     "output_type": "stream",
     "text": [
      "40\n"
     ]
    }
   ],
   "source": [
    "## Ans-5\n",
    "def minProductSum(nums1, nums2):\n",
    "    nums1.sort()\n",
    "    nums2.sort(reverse=True) \n",
    "    min_product_sum = 0\n",
    "\n",
    "    for i in range(len(nums1)):\n",
    "        min_product_sum += nums1[i] * nums2[i]\n",
    "\n",
    "    return min_product_sum\n",
    "\n",
    "# Example usage:\n",
    "nums1 = [5, 3, 4, 2]\n",
    "nums2 = [4, 2, 2, 5]\n",
    "print(minProductSum(nums1, nums2))  \n"
   ]
  },
  {
   "cell_type": "code",
   "execution_count": 10,
   "id": "d2c1ac8a",
   "metadata": {},
   "outputs": [
    {
     "name": "stdout",
     "output_type": "stream",
     "text": [
      "[1.0, 3.0, 4.0]\n"
     ]
    }
   ],
   "source": [
    "##Ans6\n",
    "from collections import defaultdict\n",
    "\n",
    "def findOriginalArray(changed):\n",
    "    if len(changed) % 2 != 0:\n",
    "        return []\n",
    "\n",
    "    num_count = defaultdict(int)\n",
    "\n",
    "    for num in changed:\n",
    "        num_count[num] += 1\n",
    "\n",
    "    changed.sort()\n",
    "    original = []\n",
    "\n",
    "    for num in changed:\n",
    "        if num_count[num] > 0 and num_count[num/2] > 0:\n",
    "            num_count[num] -= 1\n",
    "            num_count[num/2] -= 1\n",
    "            original.append(num/2)\n",
    "\n",
    "    return original if len(original) == len(changed) // 2 else []\n",
    "\n",
    "\n",
    "changed = [1, 3, 4, 2, 6, 8]\n",
    "print(findOriginalArray(changed))  \n"
   ]
  },
  {
   "cell_type": "code",
   "execution_count": 11,
   "id": "03513d3c",
   "metadata": {},
   "outputs": [
    {
     "name": "stdout",
     "output_type": "stream",
     "text": [
      "[[1, 2, 3], [8, 9, 4], [7, 6, 5]]\n"
     ]
    }
   ],
   "source": [
    "## Ans-7\n",
    "\n",
    "def generateMatrix(n):\n",
    "    matrix = [[0] * n for _ in range(n)]\n",
    "    top, bottom, left, right = 0, n-1, 0, n-1\n",
    "    num = 1\n",
    "\n",
    "    while top <= bottom and left <= right:\n",
    "        for i in range(left, right+1):\n",
    "            matrix[top][i] = num\n",
    "            num += 1\n",
    "        top += 1\n",
    "\n",
    "        for i in range(top, bottom+1):\n",
    "            matrix[i][right] = num\n",
    "            num += 1\n",
    "        right -= 1\n",
    "\n",
    "        for i in range(right, left-1, -1):\n",
    "            matrix[bottom][i] = num\n",
    "            num += 1\n",
    "        bottom -= 1\n",
    "\n",
    "        for i in range(bottom, top-1, -1):\n",
    "            matrix[i][left] = num\n",
    "            num += 1\n",
    "        left += 1\n",
    "\n",
    "    return matrix\n",
    "\n",
    "\n",
    "n = 3\n",
    "print(generateMatrix(n))  \n"
   ]
  },
  {
   "cell_type": "code",
   "execution_count": 12,
   "id": "6a119dc4",
   "metadata": {},
   "outputs": [
    {
     "name": "stdout",
     "output_type": "stream",
     "text": [
      "[[7, 0, 0], [-7, 0, 3]]\n"
     ]
    }
   ],
   "source": [
    "## Ans8\n",
    "def multiply(mat1, mat2):\n",
    "    m, k, n = len(mat1), len(mat1[0]), len(mat2[0])\n",
    "    result = [[0] * n for _ in range(m)]\n",
    "    non_zero_elements = {}\n",
    "    for i in range(m):\n",
    "        non_zero_elements[i] = {}\n",
    "        for j in range(k):\n",
    "            if mat1[i][j] != 0:\n",
    "                non_zero_elements[i][j] = mat1[i][j]\n",
    "    for i in range(m):\n",
    "        for j in range(n):\n",
    "            dot_product = 0\n",
    "            for col in range(k):\n",
    "                if col in non_zero_elements[i]:\n",
    "                    dot_product += non_zero_elements[i][col] * mat2[col][j]\n",
    "            result[i][j] = dot_product\n",
    "\n",
    "    return result\n",
    "\n",
    "mat1 = [[1, 0, 0], [-1, 0, 3]]\n",
    "mat2 = [[7, 0, 0], [0, 0, 0], [0, 0, 1]]\n",
    "print(multiply(mat1, mat2))"
   ]
  },
  {
   "cell_type": "code",
   "execution_count": null,
   "id": "66ad65a2",
   "metadata": {},
   "outputs": [],
   "source": []
  }
 ],
 "metadata": {
  "kernelspec": {
   "display_name": "Python 3 (ipykernel)",
   "language": "python",
   "name": "python3"
  },
  "language_info": {
   "codemirror_mode": {
    "name": "ipython",
    "version": 3
   },
   "file_extension": ".py",
   "mimetype": "text/x-python",
   "name": "python",
   "nbconvert_exporter": "python",
   "pygments_lexer": "ipython3",
   "version": "3.10.9"
  }
 },
 "nbformat": 4,
 "nbformat_minor": 5
}
