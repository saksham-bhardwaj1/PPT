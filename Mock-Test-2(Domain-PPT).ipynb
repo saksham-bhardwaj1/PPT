{
 "cells": [
  {
   "cell_type": "markdown",
   "id": "09b16c2c",
   "metadata": {},
   "source": [
    "##### Q1:-\n",
    "Write a function that takes a list of numbers as input and returns a new list containing only the even numbers from the input list. Use list comprehension to solve this problem.\n",
    "\n",
    "Example:\n",
    "\n",
    "Input: [1, 2, 3, 4, 5, 6, 7, 8, 9, 10]\n",
    "\n",
    "Output: [2, 4, 6, 8, 10]"
   ]
  },
  {
   "cell_type": "code",
   "execution_count": 2,
   "id": "e6d90de8",
   "metadata": {},
   "outputs": [],
   "source": [
    "l1=[1,2,3,4,5,6,7,8,9,10]"
   ]
  },
  {
   "cell_type": "code",
   "execution_count": 7,
   "id": "33a389b1",
   "metadata": {},
   "outputs": [
    {
     "data": {
      "text/plain": [
       "[2, 4, 6, 8, 10]"
      ]
     },
     "execution_count": 7,
     "metadata": {},
     "output_type": "execute_result"
    }
   ],
   "source": [
    "[i for i in l1 if i%2==0]"
   ]
  },
  {
   "cell_type": "markdown",
   "id": "82a56e13",
   "metadata": {},
   "source": [
    "##### 2nd Q:-\n",
    "Implement a decorator function called ‘timer’ that measures the execution time of a function. The ‘timer’ decorator should print the time taken by the decorated function to execute. Use the ‘time’ module in Python to calculate the execution time.\n"
   ]
  },
  {
   "cell_type": "code",
   "execution_count": 73,
   "id": "e7c6d125",
   "metadata": {},
   "outputs": [],
   "source": [
    "import time\n",
    "def time_decor(fxn):\n",
    "    def timer_test():\n",
    "        start=time.time()\n",
    "        fxn()\n",
    "        end=time.time()\n",
    "        print(\"Execution time:\",end-start)\n",
    "    return timer_test"
   ]
  },
  {
   "cell_type": "code",
   "execution_count": 76,
   "id": "9c83083e",
   "metadata": {},
   "outputs": [],
   "source": [
    "@time_decor\n",
    "def my_function():\n",
    "    print(\"hi\")\n",
    "    time.sleep(2)\n"
   ]
  },
  {
   "cell_type": "code",
   "execution_count": 77,
   "id": "5c662e54",
   "metadata": {},
   "outputs": [
    {
     "name": "stdout",
     "output_type": "stream",
     "text": [
      "hi\n",
      "Execution time: 2.0117831230163574\n"
     ]
    }
   ],
   "source": [
    "my_function()"
   ]
  },
  {
   "cell_type": "markdown",
   "id": "fd8ab14c",
   "metadata": {},
   "source": [
    "##### Q3:-\n",
    "Write a function called ‘calculate_mean’ that takes a list of numbers as input and returns the mean (average) of the numbers. The function should calculate the mean using the sum of the numbers divided by the total count.\n"
   ]
  },
  {
   "cell_type": "code",
   "execution_count": 87,
   "id": "0a91a70e",
   "metadata": {},
   "outputs": [],
   "source": [
    "def calculate_mean(numbers):\n",
    "    total=sum(numbers)\n",
    "    total_count=len(numbers)\n",
    "    mean=total/total_count\n",
    "    return mean\n",
    "    "
   ]
  },
  {
   "cell_type": "code",
   "execution_count": 88,
   "id": "4b2019a9",
   "metadata": {},
   "outputs": [],
   "source": [
    "numbers=[10,15,20,25,30]"
   ]
  },
  {
   "cell_type": "code",
   "execution_count": 89,
   "id": "db897362",
   "metadata": {},
   "outputs": [
    {
     "name": "stdout",
     "output_type": "stream",
     "text": [
      "Mean 20.0\n"
     ]
    }
   ],
   "source": [
    "mean=calculate_mean(numbers)\n",
    "print(\"Mean\",mean)"
   ]
  },
  {
   "cell_type": "markdown",
   "id": "8cd9074d",
   "metadata": {},
   "source": [
    "##### Q4:-\n",
    "Write a function called ‘perform_hypothesis_test’ that takes two lists of numbers as input, representing two samples. The function should perform a two-sample t-test and return the p-value. Use the ‘scipy.stats’ module in Python to calculate the t-test and p-value.\n"
   ]
  },
  {
   "cell_type": "code",
   "execution_count": 100,
   "id": "f1be1c20",
   "metadata": {},
   "outputs": [],
   "source": [
    "from scipy import stats"
   ]
  },
  {
   "cell_type": "code",
   "execution_count": 111,
   "id": "043a7d3f",
   "metadata": {},
   "outputs": [],
   "source": [
    "def perform_hypothesis_test(*args):\n",
    "    t_statistic,p_value=stats.ttest_ind(*args)\n",
    "    return p_value"
   ]
  },
  {
   "cell_type": "code",
   "execution_count": 112,
   "id": "689539ff",
   "metadata": {},
   "outputs": [
    {
     "data": {
      "text/plain": [
       "0.09434977284243756"
      ]
     },
     "execution_count": 112,
     "metadata": {},
     "output_type": "execute_result"
    }
   ],
   "source": [
    "sample1=[5,10,15,20,25]\n",
    "sample2=[10,20,30,40,50]\n",
    "perform_hypothesis_test(sample1,sample2)"
   ]
  },
  {
   "cell_type": "code",
   "execution_count": null,
   "id": "fe4d8fb4",
   "metadata": {},
   "outputs": [],
   "source": []
  }
 ],
 "metadata": {
  "kernelspec": {
   "display_name": "Python 3 (ipykernel)",
   "language": "python",
   "name": "python3"
  },
  "language_info": {
   "codemirror_mode": {
    "name": "ipython",
    "version": 3
   },
   "file_extension": ".py",
   "mimetype": "text/x-python",
   "name": "python",
   "nbconvert_exporter": "python",
   "pygments_lexer": "ipython3",
   "version": "3.10.9"
  }
 },
 "nbformat": 4,
 "nbformat_minor": 5
}
