{
 "cells": [
  {
   "cell_type": "code",
   "execution_count": 3,
   "id": "ebbd3908",
   "metadata": {},
   "outputs": [],
   "source": [
    "## 1st Ans\n",
    "nums=[0,1,0,3,1,2]\n",
    "k=len(nums)\n",
    "def movezero (nums,k):\n",
    "    for i in range(k):\n",
    "        if nums[i]==0:\n",
    "            nums.remove(0)\n",
    "            nums.append(0)\n",
    "    return nums"
   ]
  },
  {
   "cell_type": "code",
   "execution_count": 4,
   "id": "f600844a",
   "metadata": {},
   "outputs": [
    {
     "data": {
      "text/plain": [
       "[1, 3, 1, 2, 0, 0]"
      ]
     },
     "execution_count": 4,
     "metadata": {},
     "output_type": "execute_result"
    }
   ],
   "source": [
    "movezero(nums,k)"
   ]
  },
  {
   "cell_type": "code",
   "execution_count": 6,
   "id": "72a81bdb",
   "metadata": {},
   "outputs": [],
   "source": [
    "nums=[9,0,5,4,0,6,0]\n",
    "k=len(nums)"
   ]
  },
  {
   "cell_type": "code",
   "execution_count": 8,
   "id": "86ecf9b3",
   "metadata": {},
   "outputs": [
    {
     "data": {
      "text/plain": [
       "[9, 5, 4, 6, 0, 0, 0]"
      ]
     },
     "execution_count": 8,
     "metadata": {},
     "output_type": "execute_result"
    }
   ],
   "source": [
    "movezero(nums,k)"
   ]
  },
  {
   "cell_type": "code",
   "execution_count": null,
   "id": "9cac2d87",
   "metadata": {},
   "outputs": [],
   "source": [
    "## 2nd Ans"
   ]
  },
  {
   "cell_type": "code",
   "execution_count": 12,
   "id": "b65fec45",
   "metadata": {},
   "outputs": [],
   "source": [
    "def firstUnique(s):\n",
    "    for i in range(len(s)):\n",
    "        if s[i] not in s[:i] and s[i] not in s[i+1:]:\n",
    "            return i\n",
    "    return -1"
   ]
  },
  {
   "cell_type": "code",
   "execution_count": 17,
   "id": "a94211d0",
   "metadata": {},
   "outputs": [
    {
     "data": {
      "text/plain": [
       "0"
      ]
     },
     "execution_count": 17,
     "metadata": {},
     "output_type": "execute_result"
    }
   ],
   "source": [
    "s='leetcode'\n",
    "firstUnique(s)"
   ]
  },
  {
   "cell_type": "code",
   "execution_count": 18,
   "id": "53430eb4",
   "metadata": {},
   "outputs": [
    {
     "data": {
      "text/plain": [
       "2"
      ]
     },
     "execution_count": 18,
     "metadata": {},
     "output_type": "execute_result"
    }
   ],
   "source": [
    "s='loveleetcode'\n",
    "firstUnique(s)"
   ]
  },
  {
   "cell_type": "code",
   "execution_count": 19,
   "id": "c0a026c2",
   "metadata": {},
   "outputs": [
    {
     "data": {
      "text/plain": [
       "-1"
      ]
     },
     "execution_count": 19,
     "metadata": {},
     "output_type": "execute_result"
    }
   ],
   "source": [
    "s='aabb'\n",
    "firstUnique(s)"
   ]
  },
  {
   "cell_type": "code",
   "execution_count": null,
   "id": "1a619615",
   "metadata": {},
   "outputs": [],
   "source": []
  }
 ],
 "metadata": {
  "kernelspec": {
   "display_name": "Python 3 (ipykernel)",
   "language": "python",
   "name": "python3"
  },
  "language_info": {
   "codemirror_mode": {
    "name": "ipython",
    "version": 3
   },
   "file_extension": ".py",
   "mimetype": "text/x-python",
   "name": "python",
   "nbconvert_exporter": "python",
   "pygments_lexer": "ipython3",
   "version": "3.10.9"
  }
 },
 "nbformat": 4,
 "nbformat_minor": 5
}
